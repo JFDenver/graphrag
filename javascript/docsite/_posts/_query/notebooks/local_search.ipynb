{
 "cells": [
  {
   "cell_type": "code",
   "execution_count": null,
   "metadata": {},
   "outputs": [],
   "source": [
    "# Copyright (c) 2024 Microsoft Corporation. All rights reserved."
   ]
  },
  {
   "cell_type": "code",
   "execution_count": 2,
   "metadata": {},
   "outputs": [],
   "source": [
    "import os\n",
    "import pandas as pd\n",
    "import tiktoken\n",
    "from graphrag.query.llm.oai.chat_openai import ChatOpenAI\n",
    "from graphrag.query.llm.oai.typing import OpenaiApiType\n",
    "from graphrag.query.llm.oai.embedding import OpenAIEmbedding\n",
    "from graphrag.query.input.loaders.dfs import (\n",
    "    read_community_reports, \n",
    "    read_entities, \n",
    "    read_relationships, \n",
    "    read_covariates, \n",
    "    store_entity_semantic_embeddings, \n",
    "    read_text_units\n",
    ")\n",
    "from graphrag.query.structured_search.local_search.mixed_context import LocalSearchMixedContext\n",
    "from graphrag.query.structured_search.local_search.search import LocalSearch\n",
    "from graphrag.vector_stores.qdrant import Qdrant\n",
    "from graphrag.query.context_builder.entity_extraction import EntityVectorStoreKey\n",
    "from graphrag.query.input.retrieval.relationships import calculate_relationship_combined_rank\n",
    "from graphrag.query.context_builder.conversation_history import ConversationHistory\n",
    "from graphrag.query.question_gen.local_gen import LocalQuestionGen"
   ]
  },
  {
   "cell_type": "markdown",
   "metadata": {},
   "source": [
    "## Local Search Example\n",
    "\n",
    "Local search method generates answers by combining relevant data from the AI-extracted knowledge-graph with text chunks of the raw documents. This method is suitable for questions that require an understanding of specific entities mentioned in the documents (e.g. What are the healing properties of chamomile?)."
   ]
  },
  {
   "cell_type": "markdown",
   "metadata": {},
   "source": [
    "### Load text units and graph data tables as context for local search\n",
    "\n",
    "- In this test we first load indexing outputs from parquet files to dataframes, then convert these dataframes into collections of data objects aligning with the knowledge model."
   ]
  },
  {
   "cell_type": "markdown",
   "metadata": {},
   "source": [
    "### Load tables to dataframes"
   ]
  },
  {
   "cell_type": "code",
   "execution_count": 5,
   "metadata": {},
   "outputs": [],
   "source": [
    "INPUT_DIR = \"./inputs/operation dulce\"\n",
    "\n",
    "COMMUNITY_REPORT_TABLE = \"create_final_community_reports\"\n",
    "ENTITY_TABLE = \"create_final_nodes\"\n",
    "ENTITY_EMBEDDING_TABLE = \"create_final_entities\"\n",
    "RELATIONSHIP_TABLE = \"create_final_relationships\"\n",
    "COVARIATE_TABLE = \"create_final_covariates\"\n",
    "TEXT_UNIT_TABLE = \"create_final_text_units\"\n",
    "COMMUNITY_LEVEL = 2"
   ]
  },
  {
   "cell_type": "markdown",
   "metadata": {},
   "source": [
    "#### Read entities"
   ]
  },
  {
   "cell_type": "code",
   "execution_count": null,
   "metadata": {},
   "outputs": [],
   "source": [
    "# read nodes table to get community and degree data\n",
    "entity_df = pd.read_parquet(f\"{INPUT_DIR}/{ENTITY_TABLE}.parquet\")\n",
    "entity_df = entity_df[(entity_df.type==\"entity\") & (entity_df.level<=f\"level_{COMMUNITY_LEVEL}\")]\n",
    "entity_df = entity_df[[\"title\", \"degree\", \"community\"]].rename(columns={\"title\": \"name\", \"degree\": \"rank\"})\n",
    "\n",
    "entity_df[\"community\"] = entity_df[\"community\"].fillna(-1)\n",
    "entity_df[\"community\"] = entity_df[\"community\"].astype(int)\n",
    "entity_df[\"rank\"] = entity_df[\"rank\"].astype(int)\n",
    "\n",
    "# for duplicate entities, keep the one with the highest community level \n",
    "entity_df = entity_df.groupby([\"name\", \"rank\"]).agg({\"community\": \"max\"}).reset_index()\n",
    "entity_df['community'] = entity_df['community'].apply(lambda x: [str(x)])\n",
    "\n",
    "entity_embedding_df = pd.read_parquet(f\"{INPUT_DIR}/{ENTITY_EMBEDDING_TABLE}.parquet\")\n",
    "entity_embedding_df = entity_embedding_df[\n",
    "    [\n",
    "        \"id\",\n",
    "        \"human_readable_id\",\n",
    "        \"name\",\n",
    "        \"type\",\n",
    "        \"description\",\n",
    "        \"description_embedding\",\n",
    "        \"text_unit_ids\"\n",
    "    ]\n",
    "]\n",
    "\n",
    "entity_df = entity_df.merge(entity_embedding_df, on='name', how='inner').drop_duplicates(subset=['name'])\n",
    "\n",
    "# read entity dataframe to knowledge model objects\n",
    "entities = read_entities(\n",
    "    df=entity_df,\n",
    "    id_col=\"id\",\n",
    "    title_col=\"name\",\n",
    "    type_col=\"type\",\n",
    "    short_id_col=\"human_readable_id\",\n",
    "    description_col=\"description\",\n",
    "    community_col=\"community\",\n",
    "    rank_col=\"rank\",\n",
    "    name_embedding_col=None,\n",
    "    description_embedding_col=\"description_embedding\",\n",
    "    graph_embedding_col=None,\n",
    "    text_unit_ids_col=\"text_unit_ids\",\n",
    "    document_ids_col=None,\n",
    ")\n",
    "\n",
    "# load description embeddings to an in-memory qdrant vectorstore\n",
    "# to connect to a remote db, specify url and port values.\n",
    "description_embedding_store = Qdrant(\n",
    "    collection_name=\"entity_description_embeddings\",\n",
    ")\n",
    "description_embedding_store.connect()\n",
    "entity_description_embeddings = store_entity_semantic_embeddings(\n",
    "    entities=entities,\n",
    "    vectorstore=description_embedding_store\n",
    ")\n",
    "\n",
    "print(f'Entity count: {len(entity_df)}')\n",
    "entity_df.head()\n"
   ]
  },
  {
   "cell_type": "markdown",
   "metadata": {},
   "source": [
    "#### Read relationships"
   ]
  },
  {
   "cell_type": "code",
   "execution_count": null,
   "metadata": {},
   "outputs": [],
   "source": [
    "relationship_df = pd.read_parquet(f\"{INPUT_DIR}/{RELATIONSHIP_TABLE}.parquet\")\n",
    "#relationship_df = relationship_df[relationship_df.raw_level_ == \"level_0\"]\n",
    "relationship_df = relationship_df[[\n",
    "    \"id\",\n",
    "    \"human_readable_id\",\n",
    "    \"source\",\n",
    "    \"target\",\n",
    "    \"description\",\n",
    "    \"weight\",\n",
    "    \"text_unit_ids\"\n",
    "]]\n",
    "relationship_df[\"id\"] = relationship_df[\"id\"].astype(str)\n",
    "relationship_df[\"human_readable_id\"] = relationship_df[\"human_readable_id\"].astype(str)\n",
    "relationship_df[\"weight\"] = relationship_df[\"weight\"].astype(float)\n",
    "relationship_df[\"text_unit_ids\"] = relationship_df[\"text_unit_ids\"].apply(lambda x: x.split(\",\"))\n",
    "\n",
    "relationships = read_relationships(\n",
    "    df=relationship_df,\n",
    "    id_col=\"id\",\n",
    "    short_id_col=\"human_readable_id\",\n",
    "    source_col=\"source\",\n",
    "    target_col=\"target\",\n",
    "    description_col=\"description\",\n",
    "    weight_col=\"weight\",\n",
    "    description_embedding_col=None,\n",
    "    text_unit_ids_col=\"text_unit_ids\",\n",
    "    document_ids_col=None,\n",
    ")\n",
    "relationships = calculate_relationship_combined_rank(relationships=relationships, entities=entities, ranking_attribute=\"rank\")\n",
    "\n",
    "print(f\"Relationship count: {len(relationship_df)}\")\n",
    "relationship_df.head()\n"
   ]
  },
  {
   "cell_type": "code",
   "execution_count": null,
   "metadata": {},
   "outputs": [],
   "source": [
    "try:\n",
    "        covariate_df = pd.read_parquet(f\"{INPUT_DIR}/{COVARIATE_TABLE}.parquet\")\n",
    "        covariate_df = covariate_df[\n",
    "                [\n",
    "                        \"id\",\n",
    "                        \"human_readable_id\",\n",
    "                        \"type\",\n",
    "                        \"subject_id\",\n",
    "                        \"subject_type\",\n",
    "                        \"object_id\",\n",
    "                        \"status\",\n",
    "                        \"start_date\",\n",
    "                        \"end_date\",\n",
    "                        \"description\"\n",
    "                ]\n",
    "        ]\n",
    "        \n",
    "except:\n",
    "        columns = ['id', 'human_readable_id', 'type', 'subject_id', 'object_id', 'status', 'start_date', 'end_date', 'description']\n",
    "        covariate_df = pd.DataFrame(data=[], columns=columns)\n",
    "covariate_df[\"id\"] = covariate_df[\"id\"].astype(str)\n",
    "covariate_df[\"human_readable_id\"] = covariate_df[\"human_readable_id\"].astype(str)\n",
    "\n",
    "claims = read_covariates(\n",
    "        df=covariate_df,\n",
    "        id_col=\"id\",\n",
    "        short_id_col=\"human_readable_id\",\n",
    "        subject_col=\"subject_id\",\n",
    "        subject_type_col=None,\n",
    "        covariate_type_col=\"type\",\n",
    "        attributes_cols=[\"object_id\",\"status\", \"start_date\", \"end_date\", \"description\"],\n",
    "        text_unit_ids_col=None,\n",
    "        document_ids_col=None,\n",
    "    )\n",
    "print(f'Claim records: {len(claims)}')\n",
    "covariates = {'claims': claims}\n"
   ]
  },
  {
   "cell_type": "markdown",
   "metadata": {},
   "source": [
    "#### Read community reports"
   ]
  },
  {
   "cell_type": "code",
   "execution_count": null,
   "metadata": {},
   "outputs": [],
   "source": [
    "# get a list of communities from entity table\n",
    "community_df = entity_df[[\"community\"]].copy()\n",
    "community_df[\"community_id\"] = community_df[\"community\"].apply(lambda x: str(x[0]))\n",
    "community_df = community_df[[\"community_id\"]].drop_duplicates(subset=['community_id'])\n",
    "print(f'Community records: {len(community_df)}')"
   ]
  },
  {
   "cell_type": "code",
   "execution_count": null,
   "metadata": {},
   "outputs": [],
   "source": [
    "report_df = pd.read_parquet(f\"{INPUT_DIR}/{COMMUNITY_REPORT_TABLE}.parquet\")\n",
    "report_df = report_df[report_df.level <= f\"level_{COMMUNITY_LEVEL}\"]\n",
    "report_df = report_df.merge(community_df, on='community_id', how='inner')\n",
    "report_df[\"rank\"] = report_df[\"rank\"].astype(int)\n",
    "\n",
    "reports = read_community_reports(\n",
    "    df=report_df,\n",
    "    id_col=\"community_id\",\n",
    "    short_id_col=\"community_id\",\n",
    "    community_col=\"community_id\",\n",
    "    title_col=\"title\",\n",
    "    summary_col=\"summary\",\n",
    "    content_col=\"full_content\",\n",
    "    rank_col=\"rank\",\n",
    "    summary_embedding_col=None,\n",
    "    content_embedding_col=None,\n",
    ")\n",
    "\n",
    "print(f'Report records: {len(report_df)}')\n",
    "report_df.head()"
   ]
  },
  {
   "cell_type": "markdown",
   "metadata": {},
   "source": [
    "#### Read text units"
   ]
  },
  {
   "cell_type": "code",
   "execution_count": null,
   "metadata": {},
   "outputs": [],
   "source": [
    "text_unit_df = pd.read_parquet(f\"{INPUT_DIR}/{TEXT_UNIT_TABLE}.parquet\")\n",
    "\n",
    "text_units = read_text_units(\n",
    "    df=text_unit_df,\n",
    "    id_col=\"id\",\n",
    "    short_id_col=None,\n",
    "    text_col=\"text\",\n",
    "    embedding_col=\"text_embedding\",\n",
    "    entities_col=None,\n",
    "    relationships_col=None,\n",
    "    covariates_col=None,\n",
    "\n",
    ")\n",
    "print(f'Text unit records: {len(text_unit_df)}')\n",
    "text_unit_df.head()"
   ]
  },
  {
   "cell_type": "code",
   "execution_count": 43,
   "metadata": {},
   "outputs": [],
   "source": [
    "\n",
    "api_key = os.environ[\"GRAPHRAG_API_KEY\"]\n",
    "llm_model = os.environ[\"GRAPHRAG_EMBEDDING_MODEL\"]\n",
    "embedding_model = os.environ[\"GRAPHRAG_EMBEDDING_MODEL\"]\n",
    "\n",
    "llm = ChatOpenAI(\n",
    "    api_key=api_key,\n",
    "    model=llm_model,\n",
    "    api_type=OpenaiApiType.OpenAI, # OpenaiApiType.OpenAI or OpenaiApiType.AzureOpenAI\n",
    "    max_retries=20\n",
    ")\n",
    "\n",
    "token_encoder = tiktoken.get_encoding(\"cl100k_base\")\n",
    "\n",
    "text_embedder = OpenAIEmbedding(\n",
    "    api_key=api_key,\n",
    "    api_base=None,\n",
    "    api_type=OpenaiApiType.OpenAI,\n",
    "    model=embedding_model,\n",
    "    deployment_name=embedding_model,\n",
    "    max_retries=20,\n",
    ")"
   ]
  },
  {
   "cell_type": "markdown",
   "metadata": {},
   "source": [
    "### Create local search context builder"
   ]
  },
  {
   "cell_type": "code",
   "execution_count": 44,
   "metadata": {},
   "outputs": [],
   "source": [
    "context_builder = LocalSearchMixedContext(\n",
    "    community_reports=reports,\n",
    "    text_units=text_units,\n",
    "    entities=entities,\n",
    "    relationships=relationships,\n",
    "    covariates=covariates,\n",
    "    entity_text_embeddings=description_embedding_store,\n",
    "    embedding_vectorstore_key=EntityVectorStoreKey.ID, # if the vectorstore uses entity title as ids, set this to EntityVectorStoreKey.TITLE\n",
    "    text_embedder=text_embedder,\n",
    "    token_encoder=token_encoder,\n",
    ")"
   ]
  },
  {
   "cell_type": "markdown",
   "metadata": {},
   "source": [
    "### Create local search engine"
   ]
  },
  {
   "cell_type": "code",
   "execution_count": 45,
   "metadata": {},
   "outputs": [],
   "source": [
    "\n",
    "# text_unit_prop: proportion of context window dedicated to related text units\n",
    "# community_prop: proportion of context window dedicated to community reports. \n",
    "# The remaining proportion is dedicated to entities and relationships. Sum of text_unit_prop and community_prop should be <= 1\n",
    "# conversation_history_max_turns: maximum number of turns to include in the conversation history.\n",
    "# conversation_history_user_turns_only: if True, only include user queries in the conversation history.\n",
    "# top_k_mapped_entities: number of related entities to retrieve from the entity description embedding store.\n",
    "# top_k_relationships: control the number of out-of-network relationships to pull into the context window.\n",
    "# include_entity_rank: if True, include the entity rank in the entity table in the context window. Default entity rank = node degree.\n",
    "# include_relationship_weight: if True, include the relationship weight in the context window.\n",
    "# include_community_rank: if True, include the community rank in the context window.\n",
    "# return_candidate_context: if True, return a set of dataframes containing all candidate entity/relationship/covariate records that \n",
    "# could be relevant. Note that not all of these records will be included in the context window. The \"in_context\" column in these\n",
    "# dataframes indicates whether the record is included in the context window.\n",
    "# max_tokens: maximum number of tokens to use for the context window.\n",
    "\n",
    "\n",
    "local_context_params = {\n",
    "    \"text_unit_prop\": 0.5, \n",
    "    \"community_prop\": 0.1, \n",
    "    \"conversation_history_max_turns\": 5,\n",
    "    \"conversation_history_user_turns_only\": True,\n",
    "    \"top_k_mapped_entities\": 10,\n",
    "    \"top_k_relationships\": 10,\n",
    "    \"include_entity_rank\": True,\n",
    "    \"include_relationship_weight\": True,\n",
    "    \"include_community_rank\": False,\n",
    "    \"return_candidate_context\": False,\n",
    "    \"embedding_vectorstore_key\": EntityVectorStoreKey.ID, # set this to EntityVectorStoreKey.TITLE if the vectorstore uses entity title as ids\n",
    "    \"max_tokens\": 16000 # change this based on the token limit you have on your model (if you are using a model with 8k limit, a good setting could be 5000)\n",
    "}\n",
    "\n",
    "llm_params = {\n",
    "    \"max_tokens\": 2000, # change this based on the token limit you have on your model (if you are using a model with 8k limit, a good setting could be 1000=1500)\n",
    "    \"temperature\": 0.0,\n",
    "}"
   ]
  },
  {
   "cell_type": "code",
   "execution_count": 46,
   "metadata": {},
   "outputs": [],
   "source": [
    "search_engine = LocalSearch(\n",
    "    llm=llm,\n",
    "    context_builder=context_builder,\n",
    "    token_encoder=token_encoder,\n",
    "    llm_params=llm_params,\n",
    "    context_builder_params=local_context_params,\n",
    "    response_type=\"multiple paragraphs\" # free form text describing the response type and format, can be anything, e.g. prioritized list, single paragraph, multiple paragraphs, multiple-page report\n",
    ")"
   ]
  },
  {
   "cell_type": "markdown",
   "metadata": {},
   "source": [
    "### Run local search on sample queries"
   ]
  },
  {
   "cell_type": "code",
   "execution_count": null,
   "metadata": {},
   "outputs": [],
   "source": [
    "result = await search_engine.asearch('Tell me about Agent Mercer')\n",
    "print(result.response)"
   ]
  },
  {
   "cell_type": "code",
   "execution_count": null,
   "metadata": {},
   "outputs": [],
   "source": [
    "question = \"Tell me about Dr. Jordan Hayes\"\n",
    "result = await search_engine.asearch(question)\n",
    "print(result.response)\n"
   ]
  },
  {
   "cell_type": "markdown",
   "metadata": {},
   "source": [
    "#### Inspecting the context data used to generate the response"
   ]
  },
  {
   "cell_type": "code",
   "execution_count": null,
   "metadata": {},
   "outputs": [],
   "source": [
    "result.context_data['entities'].head()"
   ]
  },
  {
   "cell_type": "code",
   "execution_count": null,
   "metadata": {},
   "outputs": [],
   "source": [
    "result.context_data['relationships'].head()"
   ]
  },
  {
   "cell_type": "code",
   "execution_count": null,
   "metadata": {},
   "outputs": [],
   "source": [
    "result.context_data['reports'].head()"
   ]
  },
  {
   "cell_type": "code",
   "execution_count": null,
   "metadata": {},
   "outputs": [],
   "source": [
    "result.context_data['sources'].head()"
   ]
  },
  {
   "cell_type": "markdown",
   "metadata": {},
   "source": [
    "### Question Generation"
   ]
  },
  {
   "cell_type": "markdown",
   "metadata": {},
   "source": [
    "This function takes a list of user queries and generates the next candidate questions."
   ]
  },
  {
   "cell_type": "code",
   "execution_count": null,
   "metadata": {},
   "outputs": [],
   "source": [
    "question_generator = LocalQuestionGen(\n",
    "    llm=llm,\n",
    "    context_builder=context_builder,\n",
    "    token_encoder=token_encoder,\n",
    "    llm_params=llm_params,\n",
    "    context_builder_params=local_context_params,\n",
    ")"
   ]
  },
  {
   "cell_type": "code",
   "execution_count": null,
   "metadata": {},
   "outputs": [],
   "source": [
    "question_history = [\n",
    "    \"Tell me about Agent Mercer\",\n",
    "    \"What happens in Dulce military base?\"\n",
    "]\n",
    "candidate_questions = await question_generator.agenerate(\n",
    "    question_history=question_history,\n",
    "    context_data=None,\n",
    "    question_count=5\n",
    ")\n",
    "print(candidate_questions.response)"
   ]
  }
 ],
 "metadata": {
  "kernelspec": {
   "display_name": "Python 3",
   "language": "python",
   "name": "python3"
  },
  "language_info": {
   "codemirror_mode": {
    "name": "ipython",
    "version": 3
   },
   "file_extension": ".py",
   "mimetype": "text/x-python",
   "name": "python",
   "nbconvert_exporter": "python",
   "pygments_lexer": "ipython3",
   "version": "3.10.12"
  }
 },
 "nbformat": 4,
 "nbformat_minor": 2
}
